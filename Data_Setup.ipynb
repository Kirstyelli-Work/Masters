{
 "cells": [
  {
   "cell_type": "markdown",
   "id": "3201fda8",
   "metadata": {},
   "source": [
    "# Creating Filtered Data Files\n",
    "___"
   ]
  },
  {
   "cell_type": "markdown",
   "id": "56641d17",
   "metadata": {},
   "source": [
    "## Setup"
   ]
  },
  {
   "cell_type": "markdown",
   "id": "e004d264",
   "metadata": {},
   "source": [
    "### Importing Packages"
   ]
  },
  {
   "cell_type": "code",
   "execution_count": 1,
   "id": "01115be8",
   "metadata": {},
   "outputs": [],
   "source": [
    "import os\n",
    "import pandas as pd\n",
    "from astronomaly.dimensionality_reduction import pca"
   ]
  },
  {
   "cell_type": "markdown",
   "id": "a132130a",
   "metadata": {},
   "source": [
    "### Directories"
   ]
  },
  {
   "cell_type": "code",
   "execution_count": 2,
   "id": "dbb94bd6",
   "metadata": {},
   "outputs": [],
   "source": [
    "# Data Root Directory\n",
    "data_root_dir = os.path.join(os.getcwd(), 'Data')\n",
    "\n",
    "# Label Directory\n",
    "label_dir = os.path.join(data_root_dir, 'DeCaLs/gz_decals_volunteers_1_and_2.parquet')\n",
    "\n",
    "# Feature Directory\n",
    "feature_dir = os.path.join(data_root_dir, 'GalaxyZoo_Main_Features.csv')\n",
    "\n",
    "# Image Directory\n",
    "img_dir = os.path.join(data_root_dir, 'DeCaLs')"
   ]
  },
  {
   "cell_type": "markdown",
   "id": "a91e20ed",
   "metadata": {},
   "source": [
    "## Volunteer Labels"
   ]
  },
  {
   "cell_type": "code",
   "execution_count": 3,
   "id": "54dc4f60",
   "metadata": {},
   "outputs": [
    {
     "name": "stdout",
     "output_type": "stream",
     "text": [
      "Volunteer Labels:  (92960, 114)\n"
     ]
    }
   ],
   "source": [
    "volunteer_labels = pd.read_parquet(label_dir)\n",
    "volunteer_labels = volunteer_labels.set_index('iauname')\n",
    "print('Volunteer Labels: ', volunteer_labels.shape)"
   ]
  },
  {
   "cell_type": "markdown",
   "id": "71b19977",
   "metadata": {},
   "source": [
    "### Fixing fraction and totals"
   ]
  },
  {
   "cell_type": "code",
   "execution_count": 4,
   "id": "0386dd2c",
   "metadata": {},
   "outputs": [
    {
     "name": "stdout",
     "output_type": "stream",
     "text": [
      "(92960, 133)\n"
     ]
    }
   ],
   "source": [
    "volunteer_labels['disk-edge-on_manual-total'] =   (volunteer_labels['disk-edge-on_yes'] + volunteer_labels['disk-edge-on_no'])\n",
    "volunteer_labels['disk-edge-on_yes_manual-fraction'] = volunteer_labels['disk-edge-on_yes'] / volunteer_labels['disk-edge-on_manual-total']\n",
    "volunteer_labels['disk-edge-on_no_manual-fraction'] = volunteer_labels['disk-edge-on_no'] / volunteer_labels['disk-edge-on_manual-total']\n",
    "\n",
    "volunteer_labels['merging_manual-total'] =   (volunteer_labels['merging_merger'] \n",
    "                                               + volunteer_labels['merging_tidal-debris'] \n",
    "                                               + volunteer_labels['merging_both'] \n",
    "                                               + volunteer_labels['merging_neither'])\n",
    "volunteer_labels['merging_merger_manual-fraction'] = volunteer_labels['merging_merger'] / volunteer_labels['merging_manual-total']\n",
    "volunteer_labels['merging_tidal-debris_manual-fraction'] = volunteer_labels['merging_tidal-debris'] / volunteer_labels['merging_manual-total']\n",
    "volunteer_labels['merging_both_manual-fraction'] = volunteer_labels['merging_both'] / volunteer_labels['merging_manual-total']\n",
    "volunteer_labels['merging_neither_manual-fraction'] = volunteer_labels['merging_neither'] / volunteer_labels['merging_manual-total']\n",
    "\n",
    "volunteer_labels['smooth-or-featured_manual-total'] =   (volunteer_labels['smooth-or-featured_smooth'] \n",
    "                                                          + volunteer_labels['smooth-or-featured_featured-or-disk'] \n",
    "                                                          + volunteer_labels['smooth-or-featured_artifact'])\n",
    "volunteer_labels['smooth-or-featured_smooth_manual-fraction'] = volunteer_labels['smooth-or-featured_smooth'] / volunteer_labels['smooth-or-featured_manual-total']\n",
    "volunteer_labels['smooth-or-featured_featured-or-disk_manual-fraction'] = volunteer_labels['smooth-or-featured_featured-or-disk'] / volunteer_labels['smooth-or-featured_manual-total']\n",
    "volunteer_labels['smooth-or-featured_artifact_manual-fraction'] = volunteer_labels['smooth-or-featured_artifact'] / volunteer_labels['smooth-or-featured_manual-total']\n",
    "\n",
    "volunteer_labels['how-rounded_manual-total'] =   (volunteer_labels['how-rounded_completely'] \n",
    "                                                   + volunteer_labels['how-rounded_in-between'] \n",
    "                                                   + volunteer_labels['how-rounded_cigar-shaped'])\n",
    "volunteer_labels['how-rounded_completely_manual-fraction'] = volunteer_labels['how-rounded_completely'] / volunteer_labels['how-rounded_manual-total']\n",
    "volunteer_labels['how-rounded_in-between_manual-fraction'] = volunteer_labels['how-rounded_in-between'] / volunteer_labels['how-rounded_manual-total']\n",
    "volunteer_labels['how-rounded_cigar-shaped_manual-fraction'] = volunteer_labels['how-rounded_cigar-shaped'] / volunteer_labels['how-rounded_manual-total']\n",
    "\n",
    "volunteer_labels['has-spiral-arms_manual-total'] =   (volunteer_labels['has-spiral-arms_yes'] + volunteer_labels['has-spiral-arms_no'])\n",
    "volunteer_labels['has-spiral-arms_yes_manual-fraction'] = volunteer_labels['has-spiral-arms_yes'] / volunteer_labels['has-spiral-arms_manual-total']\n",
    "volunteer_labels['has-spiral-arms_no_manual-fraction'] = volunteer_labels['has-spiral-arms_no'] / volunteer_labels['has-spiral-arms_manual-total']\n",
    "\n",
    "print(volunteer_labels.shape)"
   ]
  },
  {
   "cell_type": "markdown",
   "id": "ab4abdc3",
   "metadata": {},
   "source": [
    "### Edge-on Galaxies"
   ]
  },
  {
   "cell_type": "code",
   "execution_count": 5,
   "id": "54b52205",
   "metadata": {},
   "outputs": [
    {
     "name": "stdout",
     "output_type": "stream",
     "text": [
      "Edge-on Galaxies:  6249\n"
     ]
    }
   ],
   "source": [
    "edge_on_gal = volunteer_labels[(volunteer_labels['smooth-or-featured_manual-total'] >= 35) &\n",
    "                            (volunteer_labels['disk-edge-on_manual-total'] >= 5) &\n",
    "                            (volunteer_labels['disk-edge-on_yes_manual-fraction'] > 0.8) &\n",
    "                            (volunteer_labels['merging_manual-total'] >= 10) &\n",
    "                            (volunteer_labels['merging_merger_manual-fraction'] < 0.2)].copy()\n",
    "edge_on_gal['Type'] = 'E'\n",
    "print('Edge-on Galaxies: ', edge_on_gal.shape[0])"
   ]
  },
  {
   "cell_type": "code",
   "execution_count": 6,
   "id": "047e20b1",
   "metadata": {},
   "outputs": [
    {
     "name": "stdout",
     "output_type": "stream",
     "text": [
      "5949\n"
     ]
    }
   ],
   "source": [
    "filenames_to_find = set(edge_on_gal.index.astype(str) + '.png')\n",
    "count = 0\n",
    "\n",
    "for root, dirs, files in os.walk(img_dir):\n",
    "    for file in files:\n",
    "        if file in filenames_to_find:\n",
    "            count += 1\n",
    "\n",
    "print(count)"
   ]
  },
  {
   "cell_type": "markdown",
   "id": "b52eb597",
   "metadata": {},
   "source": [
    "### Round Elliptical Galaxies"
   ]
  },
  {
   "cell_type": "code",
   "execution_count": 7,
   "id": "0d2f6363",
   "metadata": {},
   "outputs": [
    {
     "name": "stdout",
     "output_type": "stream",
     "text": [
      "Round Elliptical Galaxies:  4748\n"
     ]
    }
   ],
   "source": [
    "round_ell_gal = volunteer_labels[(volunteer_labels['smooth-or-featured_manual-total'] >= 35) &\n",
    "                              (volunteer_labels['smooth-or-featured_smooth_manual-fraction'] > 0.8) &\n",
    "                              (volunteer_labels['how-rounded_manual-total'] >= 5) &\n",
    "                              (volunteer_labels['how-rounded_completely_manual-fraction'] > 0.8) &\n",
    "                              (volunteer_labels['merging_manual-total'] >= 10) &\n",
    "                              (volunteer_labels['merging_merger_manual-fraction'] < 0.2)].copy()\n",
    "round_ell_gal['Type'] = 'R'\n",
    "print('Round Elliptical Galaxies: ', round_ell_gal.shape[0])"
   ]
  },
  {
   "cell_type": "code",
   "execution_count": 8,
   "id": "42860775",
   "metadata": {},
   "outputs": [
    {
     "name": "stdout",
     "output_type": "stream",
     "text": [
      "4174\n"
     ]
    }
   ],
   "source": [
    "filenames_to_find = set(round_ell_gal.index.astype(str) + '.png')\n",
    "count = 0\n",
    "\n",
    "for root, dirs, files in os.walk(img_dir):\n",
    "    for file in files:\n",
    "        if file in filenames_to_find:\n",
    "            count += 1\n",
    "\n",
    "print(count)"
   ]
  },
  {
   "cell_type": "markdown",
   "id": "8c49963e",
   "metadata": {},
   "source": [
    "### Spiral Galaxies"
   ]
  },
  {
   "cell_type": "code",
   "execution_count": 9,
   "id": "089285e5",
   "metadata": {},
   "outputs": [
    {
     "name": "stdout",
     "output_type": "stream",
     "text": [
      "Spiral Galaxies:  3967\n"
     ]
    }
   ],
   "source": [
    "spiral_gal = volunteer_labels[(volunteer_labels['smooth-or-featured_manual-total'] >= 35) &\n",
    "                           (volunteer_labels['smooth-or-featured_featured-or-disk_manual-fraction'] > 0.8) &\n",
    "                           (volunteer_labels['has-spiral-arms_manual-total'] >= 5) &\n",
    "                           (volunteer_labels['has-spiral-arms_yes_manual-fraction'] > 0.8) &\n",
    "                           (volunteer_labels['merging_manual-total'] >= 10) &\n",
    "                           (volunteer_labels['merging_merger_manual-fraction'] < 0.2)].copy()\n",
    "spiral_gal['Type'] = 'S'\n",
    "print('Spiral Galaxies: ', spiral_gal.shape[0])"
   ]
  },
  {
   "cell_type": "code",
   "execution_count": 10,
   "id": "fb8b0c44",
   "metadata": {},
   "outputs": [
    {
     "name": "stdout",
     "output_type": "stream",
     "text": [
      "3932\n"
     ]
    }
   ],
   "source": [
    "filenames_to_find = set(spiral_gal.index.astype(str) + '.png')\n",
    "count = 0\n",
    "\n",
    "for root, dirs, files in os.walk(img_dir):\n",
    "    for file in files:\n",
    "        if file in filenames_to_find:\n",
    "            count += 1\n",
    "\n",
    "print(count)"
   ]
  },
  {
   "cell_type": "markdown",
   "id": "b0adc3dd",
   "metadata": {},
   "source": [
    "## Combining the assigned galaxies"
   ]
  },
  {
   "cell_type": "code",
   "execution_count": 11,
   "id": "f303ae28",
   "metadata": {},
   "outputs": [
    {
     "name": "stdout",
     "output_type": "stream",
     "text": [
      "Galaxy Assignment:  (14964, 134)\n",
      "Volunteer Labels duplicates: 2\n",
      "Index(['J143434.58+140548.3', 'J125711.89-014223.0'], dtype='object', name='iauname')\n",
      "Confident Galaxy Assignment:  (14960, 134)\n"
     ]
    }
   ],
   "source": [
    "assigned = pd.concat([spiral_gal, round_ell_gal, edge_on_gal])\n",
    "print('Galaxy Assignment: ', assigned.shape)\n",
    "\n",
    "# Check volunteer_labels for duplicate iauname\n",
    "dupes_labels = assigned.index[assigned.index.duplicated()]\n",
    "print(f\"Volunteer Labels duplicates: {len(dupes_labels)}\")\n",
    "if len(dupes_labels):\n",
    "    print(dupes_labels.unique())\n",
    "# Removing ambigous classifications\n",
    "assigned.drop(['J143434.58+140548.3', 'J125711.89-014223.0'], inplace=True)\n",
    "\n",
    "assigned.to_parquet(os.path.join(data_root_dir, 'assigned_volunteer_labels.parquet'))\n",
    "print('Confident Galaxy Assignment: ', assigned.shape)"
   ]
  },
  {
   "cell_type": "markdown",
   "id": "99cadda9",
   "metadata": {},
   "source": [
    "## Features"
   ]
  },
  {
   "cell_type": "code",
   "execution_count": 12,
   "id": "9b45b91d",
   "metadata": {},
   "outputs": [
    {
     "name": "stdout",
     "output_type": "stream",
     "text": [
      "Features:  (230575, 512)\n"
     ]
    }
   ],
   "source": [
    "features = pd.read_csv(feature_dir, index_col=1)\n",
    "# Dropping unnecessary index column\n",
    "features.drop('Unnamed: 0', axis=1, inplace=True)\n",
    "features.to_parquet(os.path.join(data_root_dir, 'GalaxyZoo_Main_Features.parquet'))\n",
    "print('Features: ', features.shape)"
   ]
  },
  {
   "cell_type": "markdown",
   "id": "1423b84c",
   "metadata": {},
   "source": [
    "### PCA"
   ]
  },
  {
   "cell_type": "code",
   "execution_count": 13,
   "id": "8ab37f7a",
   "metadata": {},
   "outputs": [
    {
     "name": "stdout",
     "output_type": "stream",
     "text": [
      "Running PCA_Decomposer ...\n",
      "Total explained variance: 0.951611267647979\n",
      "Done! Time taken: 2.8624415397644043 s\n",
      "PCA:  (230575, 29)\n"
     ]
    }
   ],
   "source": [
    "my_pca = pca.PCA_Decomposer(force_rerun=True, n_components=29, threshold=0.95, output_dir=data_root_dir)\n",
    "pca_features = my_pca.run(features)\n",
    "pca_features.to_parquet(os.path.join(data_root_dir, 'pca_features.parquet'))\n",
    "print('PCA: ', pca_features.shape)"
   ]
  }
 ],
 "metadata": {
  "kernelspec": {
   "display_name": "my_proj_env",
   "language": "python",
   "name": "python3"
  },
  "language_info": {
   "codemirror_mode": {
    "name": "ipython",
    "version": 3
   },
   "file_extension": ".py",
   "mimetype": "text/x-python",
   "name": "python",
   "nbconvert_exporter": "python",
   "pygments_lexer": "ipython3",
   "version": "3.10.12"
  }
 },
 "nbformat": 4,
 "nbformat_minor": 5
}
