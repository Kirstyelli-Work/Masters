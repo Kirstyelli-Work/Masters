{
 "cells": [
  {
   "cell_type": "markdown",
   "id": "d433c6a1",
   "metadata": {},
   "source": [
    "# Cluster Uncertainty\n",
    "___"
   ]
  },
  {
   "cell_type": "code",
   "execution_count": 42,
   "id": "dca26f1c",
   "metadata": {},
   "outputs": [],
   "source": [
    "clustering_strategy = 'MiniBatchKMeans' #BGMM or MiniBatchKMeans\n",
    "assignment_type = 'closest' #modal or closest"
   ]
  },
  {
   "cell_type": "markdown",
   "id": "f258ba72",
   "metadata": {},
   "source": [
    "## Setup"
   ]
  },
  {
   "cell_type": "markdown",
   "id": "527f1743",
   "metadata": {},
   "source": [
    "### Importing Packages"
   ]
  },
  {
   "cell_type": "code",
   "execution_count": 46,
   "id": "0e575ddd",
   "metadata": {},
   "outputs": [],
   "source": [
    "import os\n",
    "import pandas as pd"
   ]
  },
  {
   "cell_type": "markdown",
   "id": "fd47c06d",
   "metadata": {},
   "source": [
    "### Directories"
   ]
  },
  {
   "cell_type": "code",
   "execution_count": 47,
   "id": "858cb650",
   "metadata": {},
   "outputs": [],
   "source": [
    "# Data Root Directory\n",
    "data_root_dir = os.path.join(os.getcwd(), 'Data')\n",
    "\n",
    "# Test Subset Directory\n",
    "test_subset_dir = os.path.join(data_root_dir, f'{clustering_strategy}_test_subset.parquet')"
   ]
  },
  {
   "cell_type": "code",
   "execution_count": 48,
   "id": "55b2a0cc",
   "metadata": {},
   "outputs": [
    {
     "name": "stdout",
     "output_type": "stream",
     "text": [
      "Test Subset:  (10624, 156)\n"
     ]
    }
   ],
   "source": [
    "test_subset = pd.read_parquet(test_subset_dir)\n",
    "print('Test Subset: ', test_subset.shape)"
   ]
  },
  {
   "cell_type": "markdown",
   "id": "ee954bfe",
   "metadata": {},
   "source": [
    "## Final Cluster Assignments"
   ]
  },
  {
   "cell_type": "code",
   "execution_count": 49,
   "id": "2e356d5b",
   "metadata": {},
   "outputs": [
    {
     "name": "stdout",
     "output_type": "stream",
     "text": [
      "        Closest_Type  Percentage\n",
      "Cluster                         \n",
      "0                  S       39.39\n",
      "1                  S       12.50\n",
      "2                  E       91.72\n",
      "3                  R       73.26\n",
      "4                  S       91.49\n",
      "5                  R       32.26\n",
      "6                  S       20.69\n",
      "7                  E       63.16\n",
      "8                  E       94.34\n",
      "9                  S       27.08\n",
      "10                 E       34.29\n",
      "11                 R       92.44\n",
      "12                 S       95.08\n",
      "13                 R       85.53\n",
      "14                 R       23.81\n",
      "15                 E       73.81\n",
      "16                 S       39.79\n",
      "17                 S       23.62\n",
      "18                 R       92.99\n",
      "19                 R       94.75\n"
     ]
    }
   ],
   "source": [
    "# Group by Cluster and Type to find how many of each type in each cluster\n",
    "counts = test_subset.groupby(['Cluster', 'Type']).size()\n",
    "counts_df = counts.reset_index(name='Count')\n",
    "# Add Total and Percentage Accuracy Columns\n",
    "counts_df['Total'] = counts_df.groupby('Cluster')['Count'].transform('sum')\n",
    "counts_df['Percentage'] = counts_df['Count'] / counts_df['Total'] * 100\n",
    "\n",
    "if assignment_type == 'modal':\n",
    "    # Find Dominant Type in Each Cluster\n",
    "    dominant = counts_df.loc[counts_df.groupby('Cluster')['Count'].idxmax()]\n",
    "    # Save Summary Array\n",
    "    cluster_df = dominant.set_index('Cluster')[['Type', 'Percentage']]\n",
    "    cluster_df.columns = ['Dominant_Type', 'Percentage']\n",
    "    cluster_df['Percentage'] = cluster_df['Percentage'].round(2)\n",
    "    print(cluster_df)\n",
    "elif assignment_type == 'closest':\n",
    "    # Find closest point in each cluster and assign that type to the cluster\n",
    "    closest = []\n",
    "    for cluster in range(20):\n",
    "        # Subset for each cluster\n",
    "        one_cluster = test_subset[test_subset['Cluster']==cluster]\n",
    "        # Finding index of minimum dist\n",
    "        min_val = one_cluster[f'Distance_{cluster}'].idxmin()\n",
    "        # Finding associated galaxy type\n",
    "        cluster_type = one_cluster.loc[min_val, 'Type']\n",
    "        # Save Summary Array\n",
    "        percentage = counts_df.loc[(counts_df['Cluster'] == cluster) & (counts_df['Type'] == cluster_type), 'Percentage']\n",
    "        percentage = percentage.round(2)\n",
    "        closest.append({'Cluster':cluster, 'Closest_Type':cluster_type, 'Percentage':percentage.values[0]})\n",
    "    closest_df = pd.DataFrame(closest).set_index('Cluster')\n",
    "    print(closest_df)"
   ]
  }
 ],
 "metadata": {
  "kernelspec": {
   "display_name": "my_proj_env",
   "language": "python",
   "name": "python3"
  },
  "language_info": {
   "codemirror_mode": {
    "name": "ipython",
    "version": 3
   },
   "file_extension": ".py",
   "mimetype": "text/x-python",
   "name": "python",
   "nbconvert_exporter": "python",
   "pygments_lexer": "ipython3",
   "version": "3.10.12"
  }
 },
 "nbformat": 4,
 "nbformat_minor": 5
}
