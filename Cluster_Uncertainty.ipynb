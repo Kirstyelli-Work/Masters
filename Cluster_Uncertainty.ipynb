{
 "cells": [
  {
   "cell_type": "markdown",
   "id": "d433c6a1",
   "metadata": {},
   "source": [
    "# Cluster Uncertainty\n",
    "___"
   ]
  },
  {
   "cell_type": "code",
   "execution_count": 84,
   "id": "dca26f1c",
   "metadata": {},
   "outputs": [],
   "source": [
    "clustering_strategy = 'MiniBatchKMeans' #BGMM or MiniBatchKMeans\n",
    "assignment_type = 'closest' #modal or closest"
   ]
  },
  {
   "cell_type": "markdown",
   "id": "f258ba72",
   "metadata": {},
   "source": [
    "## Setup"
   ]
  },
  {
   "cell_type": "markdown",
   "id": "527f1743",
   "metadata": {},
   "source": [
    "### Importing Packages"
   ]
  },
  {
   "cell_type": "code",
   "execution_count": 85,
   "id": "0e575ddd",
   "metadata": {},
   "outputs": [],
   "source": [
    "import os\n",
    "import pandas as pd"
   ]
  },
  {
   "cell_type": "markdown",
   "id": "fd47c06d",
   "metadata": {},
   "source": [
    "### Directories"
   ]
  },
  {
   "cell_type": "code",
   "execution_count": 86,
   "id": "858cb650",
   "metadata": {},
   "outputs": [],
   "source": [
    "# Data Root Directory\n",
    "data_root_dir = os.path.join(os.getcwd(), 'Data')\n",
    "\n",
    "# Test Subset Directory\n",
    "test_subset_dir = os.path.join(data_root_dir, f'{clustering_strategy}_test_subset3.parquet')"
   ]
  },
  {
   "cell_type": "code",
   "execution_count": 87,
   "id": "55b2a0cc",
   "metadata": {},
   "outputs": [
    {
     "name": "stdout",
     "output_type": "stream",
     "text": [
      "Test Subset:  (6779, 156)\n"
     ]
    }
   ],
   "source": [
    "test_subset = pd.read_parquet(test_subset_dir)\n",
    "print('Test Subset: ', test_subset.shape)"
   ]
  },
  {
   "cell_type": "markdown",
   "id": "ee954bfe",
   "metadata": {},
   "source": [
    "## Final Cluster Assignments"
   ]
  },
  {
   "cell_type": "code",
   "execution_count": 103,
   "id": "2e356d5b",
   "metadata": {},
   "outputs": [
    {
     "name": "stdout",
     "output_type": "stream",
     "text": [
      "Index(['Percentage', 'Closest', 'Closest_Type', 'Galaxy_Tags'], dtype='object')\n"
     ]
    }
   ],
   "source": [
    "# Group by Cluster and Type to find how many of each type in each cluster\n",
    "counts = test_subset.groupby(['Cluster', 'Type']).size()\n",
    "counts_df = counts.reset_index(name='Count')\n",
    "# Add Total and Percentage Accuracy Columns\n",
    "counts_df['Total'] = counts_df.groupby('Cluster')['Count'].transform('sum')\n",
    "counts_df['Percentage'] = counts_df['Count'] / counts_df['Total'] * 100\n",
    "\n",
    "if assignment_type == 'modal':\n",
    "    # Find Dominant Type in Each Cluster\n",
    "    dominant = counts_df.loc[counts_df.groupby('Cluster')['Count'].idxmax()]\n",
    "    # Save Summary Array\n",
    "    cluster_df = dominant.set_index('Cluster')[['Type', 'Percentage']]\n",
    "    cluster_df.columns = ['Dominant_Type', 'Percentage']\n",
    "    cluster_df['Percentage'] = cluster_df['Percentage'].round(2)\n",
    "    print(cluster_df)\n",
    "elif assignment_type == 'closest':\n",
    "    # Find closest point in each cluster and assign that type to the cluster\n",
    "    closest = []\n",
    "    for cluster in range(20):\n",
    "        # Subset for each cluster\n",
    "        one_cluster = test_subset[test_subset['Cluster']==cluster]\n",
    "        # Finding index of minimum dist\n",
    "        min_val = one_cluster[f'Distance_{cluster}'].idxmin()\n",
    "        cluster_type = one_cluster.loc[min_val, 'Type']\n",
    "        # Finding associated galaxy tag names\n",
    "        closest_five = one_cluster.nsmallest(5, f'Distance_{cluster}')\n",
    "        galaxy_tags = closest_five.index.tolist()\n",
    "            #print(galaxy_tags)\n",
    "        # Save Summary Array\n",
    "        percentage = counts_df.loc[(counts_df['Cluster'] == cluster) & (counts_df['Type'] == cluster_type), 'Percentage']\n",
    "        percentage = percentage.iloc[0] if not percentage.empty else 0\n",
    "        percentage = percentage.round(2)\n",
    "        closest.append({'Cluster':cluster, 'Percentage':percentage, 'Closest': min_val, 'Closest_Type': cluster_type, 'Galaxy_Tags':galaxy_tags})\n",
    "    closest_df = pd.DataFrame(closest).set_index('Cluster')\n",
    "    closest_df.to_parquet(os.path.join(data_root_dir, f'{clustering_strategy}_{assignment_type}_assignment3.parquet'))\n",
    "    print(closest_df.columns)"
   ]
  },
  {
   "cell_type": "code",
   "execution_count": 105,
   "id": "386b99dc",
   "metadata": {},
   "outputs": [
    {
     "name": "stdout",
     "output_type": "stream",
     "text": [
      "                     Closest  Percentage Closest_Type\n",
      "Cluster                                              \n",
      "0        J150006.06+123947.9       62.22            S\n",
      "1        J213442.37-015025.7       50.00            R\n",
      "2        J144456.28+123003.2       48.15            S\n",
      "3        J141836.11+193453.9       91.42            R\n",
      "4        J220340.40-010325.7       84.48            S\n",
      "5        J215035.70-010554.3       79.59            R\n",
      "6        J162033.13+082211.8       28.16            R\n",
      "7        J151724.80+135712.9       98.56            R\n",
      "8        J232242.90-010552.4       66.67            S\n",
      "9        J223207.25+000213.5       30.77            S\n",
      "10       J212854.15+000042.1       47.37            R\n",
      "11       J000712.35-052950.7       69.23            R\n",
      "12       J211052.54-023805.9       20.00            S\n",
      "13       J154146.42+071941.4       93.76            R\n",
      "14       J164248.62+275853.3        5.94            E\n",
      "15       J171754.83+270047.3       98.14            R\n",
      "16       J081727.99-004101.0       55.56            R\n",
      "17       J233919.90-004512.0       81.63            S\n",
      "18       J082241.80+042445.0       78.25            R\n",
      "19       J162315.44+202258.2       97.31            S\n",
      "                     Closest  Percentage Closest_Type\n",
      "Cluster                                              \n",
      "0        J091928.49+103839.5       94.51            S\n",
      "1        J091751.13+212141.3       96.80            R\n",
      "2        J231815.67+001540.2       40.00            S\n",
      "3        J083805.24+284238.5       90.77            R\n",
      "4        J213539.09+010434.4       56.58            S\n",
      "5        J000712.35-052950.7       69.23            R\n",
      "6        J211052.54-023805.9       33.33            S\n",
      "7        J212854.15+000042.1       47.37            R\n",
      "8        J100334.74+285354.5       53.75            R\n",
      "9        J162039.56+092009.8       90.04            R\n",
      "10       J151055.10+053331.6      100.00            R\n",
      "11       J215807.31+010032.0       32.06            E\n",
      "12       J081850.73+210249.4       98.68            S\n",
      "13       J081727.99-004101.0       55.56            R\n",
      "14       J224236.74+005301.3       83.33            S\n",
      "15       J145415.32+150107.7       10.15            S\n",
      "16       J144456.28+123003.2       47.06            S\n",
      "17       J091637.70+245249.3       49.82            S\n",
      "18       J082750.38+281940.5       97.86            R\n",
      "19       J215332.46-005529.7       46.67            R\n",
      "                     Closest  Percentage Closest_Type\n",
      "Cluster                                              \n",
      "0        J233027.40-004221.1       41.15            S\n",
      "1        J154146.42+071941.4       98.88            R\n",
      "2        J163831.98+280443.3       64.37            R\n",
      "3        J162340.33+222306.2       41.33            S\n",
      "4        J215807.31+010032.0       25.40            E\n",
      "5        J125243.93+182247.7       93.04            R\n",
      "6        J131140.27-020422.0       15.23            S\n",
      "7        J154629.63+122106.3       27.03            S\n",
      "8        J162315.44+202258.2       94.00            S\n",
      "9        J230551.87+004558.2       84.82            S\n",
      "10       J123146.61+190848.4       80.00            S\n",
      "11       J222237.20+010857.3       85.00            S\n",
      "12       J162056.36+095345.5       93.98            S\n",
      "13       J212854.15+000042.1       50.00            R\n",
      "14       J091002.20+240956.6       69.55            S\n",
      "15       J144456.28+123003.2       35.00            S\n",
      "16       J091751.13+212141.3       98.58            R\n",
      "17       J210623.46-005024.7       13.49            S\n",
      "18       J100334.74+285354.5       34.42            R\n",
      "19       J075921.31+263016.0       47.37            R\n",
      "##########################\n",
      "Closest Galaxy\n",
      "##########################\n",
      "Run 1 and Run 2 Common Closest:  5\n",
      "{'J000712.35-052950.7', 'J081727.99-004101.0', 'J144456.28+123003.2', 'J211052.54-023805.9', 'J212854.15+000042.1'}\n",
      "Run 1 and Run 3 Common Closest:  4\n",
      "{'J144456.28+123003.2', 'J154146.42+071941.4', 'J162315.44+202258.2', 'J212854.15+000042.1'}\n",
      "Run 2 and Run 3 Common Closest:  5\n",
      "{'J091751.13+212141.3', 'J215807.31+010032.0', 'J144456.28+123003.2', 'J100334.74+285354.5', 'J212854.15+000042.1'}\n",
      "All Three Runs Common Closest:  2\n",
      "{'J144456.28+123003.2', 'J212854.15+000042.1'}\n"
     ]
    }
   ],
   "source": [
    "run1 = pd.read_parquet(os.path.join(data_root_dir, f'{clustering_strategy}_{assignment_type}_assignment1.parquet')) \n",
    "tags1 = run1['Galaxy_Tags'].explode().unique()\n",
    "closest1 = run1[['Closest', 'Percentage', 'Closest_Type']]\n",
    "print(closest1)\n",
    "run2 = pd.read_parquet(os.path.join(data_root_dir, f'{clustering_strategy}_{assignment_type}_assignment2.parquet')) \n",
    "tags2 = run2['Galaxy_Tags'].explode().unique()\n",
    "closest2 = run2[['Closest', 'Percentage', 'Closest_Type']]\n",
    "print(closest2)\n",
    "run3 = pd.read_parquet(os.path.join(data_root_dir, f'{clustering_strategy}_{assignment_type}_assignment3.parquet')) \n",
    "tags3 = run3['Galaxy_Tags'].explode().unique()\n",
    "closest3 = run3[['Closest', 'Percentage', 'Closest_Type']]\n",
    "print(closest3)\n",
    "\n",
    "print('##########################\\nClosest Galaxy\\n##########################')\n",
    "print('Run 1 and Run 2 Common Closest: ', len(set(closest1['Closest']).intersection(set(closest2['Closest']))))\n",
    "print(set(closest1['Closest']).intersection(set(closest2['Closest'])))\n",
    "print('Run 1 and Run 3 Common Closest: ', len(set(closest1['Closest']).intersection(set(closest3['Closest']))))\n",
    "print(set(closest1['Closest']).intersection(set(closest3['Closest'])))\n",
    "print('Run 2 and Run 3 Common Closest: ', len(set(closest2['Closest']).intersection(set(closest3['Closest']))))\n",
    "print(set(closest2['Closest']).intersection(set(closest3['Closest'])))\n",
    "print('All Three Runs Common Closest: ', len(set(closest1['Closest']).intersection(set(closest2['Closest'])).intersection(set(closest3['Closest']))))\n",
    "print(set(closest1['Closest']).intersection(set(closest2['Closest'])).intersection(set(closest3['Closest'])))\n",
    "\n",
    "#print('##########################\\nClosest 5 Galaxies\\n##########################')\n",
    "\n",
    "#print('Run 1 and Run 2 Common Tags: ', len(set(tags1).intersection(set(tags2))))\n",
    "#print(set(tags1).intersection(set(tags2)))\n",
    "#print('Run 1 and Run 3 Common Tags: ', len(set(tags1).intersection(set(tags3))))\n",
    "#print('Run 2 and Run 3 Common Tags: ', len(set(tags2).intersection(set(tags3))))\n",
    "#print('All Three Runs Common Tags: ', len(set(tags1).intersection(set(tags2)).intersection(set(tags3))))"
   ]
  }
 ],
 "metadata": {
  "kernelspec": {
   "display_name": "my_proj_env",
   "language": "python",
   "name": "python3"
  },
  "language_info": {
   "codemirror_mode": {
    "name": "ipython",
    "version": 3
   },
   "file_extension": ".py",
   "mimetype": "text/x-python",
   "name": "python",
   "nbconvert_exporter": "python",
   "pygments_lexer": "ipython3",
   "version": "3.10.12"
  }
 },
 "nbformat": 4,
 "nbformat_minor": 5
}
