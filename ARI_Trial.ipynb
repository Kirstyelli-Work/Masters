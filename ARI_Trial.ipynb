{
 "cells": [
  {
   "cell_type": "markdown",
   "id": "9aa97caa",
   "metadata": {},
   "source": [
    "# ARI Trial\n",
    "___"
   ]
  },
  {
   "cell_type": "code",
   "execution_count": 1,
   "id": "674fd12a",
   "metadata": {},
   "outputs": [],
   "source": [
    "clustering_strategy = 'MiniBatchKMeans'"
   ]
  },
  {
   "cell_type": "markdown",
   "id": "ac4ba64d",
   "metadata": {},
   "source": [
    "## Setup"
   ]
  },
  {
   "cell_type": "markdown",
   "id": "e6c330b1",
   "metadata": {},
   "source": [
    "### Importing Packages"
   ]
  },
  {
   "cell_type": "code",
   "execution_count": 2,
   "id": "1fd37b15",
   "metadata": {},
   "outputs": [],
   "source": [
    "import os\n",
    "import pandas as pd\n",
    "import matplotlib.pyplot as plt\n",
    "from sklearn.metrics.cluster import adjusted_rand_score"
   ]
  },
  {
   "cell_type": "markdown",
   "id": "3f777a00",
   "metadata": {},
   "source": [
    "### Directories"
   ]
  },
  {
   "cell_type": "code",
   "execution_count": 14,
   "id": "5cba51fc",
   "metadata": {},
   "outputs": [
    {
     "name": "stdout",
     "output_type": "stream",
     "text": [
      "<bound method NDFrame.head of                      Cluster    Prob_0    Prob_1      Prob_2    Prob_3  \\\n",
      "Image Name                                                               \n",
      "J085308.16+165953.5        3  8.469382  6.786284  100.673026  5.127724   \n",
      "J140925.33+130923.4       18  6.923872  7.752055  100.311241  7.168337   \n",
      "J143544.86-015122.8        3  6.852080  5.763860  100.325859  4.850004   \n",
      "J132108.89+010117.0        6  6.159851  5.389742  100.673871  6.994011   \n",
      "J094754.37+130754.8        9  7.539136  7.901628  100.304176  7.700648   \n",
      "...                      ...       ...       ...         ...       ...   \n",
      "J122646.15+211546.6       11  8.709022  9.915567  101.700523  9.041618   \n",
      "J151547.48+232347.2       19  5.004659  8.741591  100.630690  7.867193   \n",
      "J141739.69+110158.4        1  6.970856  6.067480  100.482151  8.893784   \n",
      "J124326.86-005113.6        0  4.397635  8.950533  100.877021  7.691198   \n",
      "J094135.60-004015.1        7  7.782300  8.567347  100.526049  7.721549   \n",
      "\n",
      "                       Prob_4     Prob_5    Prob_6    Prob_7    Prob_8  ...  \\\n",
      "Image Name                                                              ...   \n",
      "J085308.16+165953.5  6.983057  40.615323  7.290653  7.822316  7.340626  ...   \n",
      "J140925.33+130923.4  5.731409  40.270841  6.194831  6.546255  6.189078  ...   \n",
      "J143544.86-015122.8  5.371033  40.620108  6.777891  6.101614  5.803170  ...   \n",
      "J132108.89+010117.0  6.551365  40.436593  5.379747  6.232928  7.118858  ...   \n",
      "J094754.37+130754.8  8.045358  40.940710  8.037565  6.317854  6.627709  ...   \n",
      "...                       ...        ...       ...       ...       ...  ...   \n",
      "J122646.15+211546.6  8.916742  40.542373  8.138201  7.868215  8.475973  ...   \n",
      "J151547.48+232347.2  6.974315  40.748872  7.320218  6.255302  7.723373  ...   \n",
      "J141739.69+110158.4  7.687646  40.719272  7.126704  8.581084  8.372497  ...   \n",
      "J124326.86-005113.6  7.421088  40.388950  6.548997  6.010353  7.779394  ...   \n",
      "J094135.60-004015.1  7.067171  40.407699  7.001660  6.686646  7.723920  ...   \n",
      "\n",
      "                       Prob_10    Prob_11   Prob_12     Prob_13   Prob_14  \\\n",
      "Image Name                                                                  \n",
      "J085308.16+165953.5  41.119665   9.863735  8.049821  191.782608  5.948599   \n",
      "J140925.33+130923.4  41.158321   8.905543  6.485153  191.600391  7.284042   \n",
      "J143544.86-015122.8  41.253626   9.119977  6.227829  191.723616  7.099668   \n",
      "J132108.89+010117.0  41.292294   8.830674  7.485778  191.661360  6.535628   \n",
      "J094754.37+130754.8  41.355524   9.617839  7.573129  191.750178  7.131562   \n",
      "...                        ...        ...       ...         ...       ...   \n",
      "J122646.15+211546.6  41.768865   6.008551  8.517612  192.355389  8.842604   \n",
      "J151547.48+232347.2  41.220518   9.997788  7.247535  191.696119  6.664413   \n",
      "J141739.69+110158.4  41.917338  10.222844  8.778712  191.742053  9.390744   \n",
      "J124326.86-005113.6  41.443206   9.480044  7.500368  191.853030  7.224076   \n",
      "J094135.60-004015.1  40.954883   8.886269  7.381534  191.684428  7.482449   \n",
      "\n",
      "                      Prob_15   Prob_16    Prob_17   Prob_18   Prob_19  \n",
      "Image Name                                                              \n",
      "J085308.16+165953.5  8.318742  8.061268  26.887743  8.834897  7.964638  \n",
      "J140925.33+130923.4  6.490073  6.708853  26.653400  5.551707  6.822624  \n",
      "J143544.86-015122.8  6.969733  6.802577  25.717454  7.463061  7.467608  \n",
      "J132108.89+010117.0  7.812352  6.367288  26.651542  7.945196  7.069025  \n",
      "J094754.37+130754.8  7.426869  6.724816  26.546240  7.404995  8.073733  \n",
      "...                       ...       ...        ...       ...       ...  \n",
      "J122646.15+211546.6  7.287675  7.281491  27.746519  7.786060  9.195952  \n",
      "J151547.48+232347.2  6.781709  7.412187  27.576314  8.314165  4.479073  \n",
      "J141739.69+110158.4  8.963261  8.662303  27.174820  9.371708  8.162435  \n",
      "J124326.86-005113.6  7.317373  7.513630  27.313764  8.498565  6.003943  \n",
      "J094135.60-004015.1  8.446560  7.712909  26.687247  8.701326  7.155440  \n",
      "\n",
      "[230575 rows x 21 columns]>\n"
     ]
    }
   ],
   "source": [
    "# Data Root Directory\n",
    "data_root_dir = os.path.join(os.getcwd(), 'Data')\n",
    "\n",
    "# Test Subset Directory\n",
    "test_subset_dir = os.path.join(data_root_dir, f'{clustering_strategy}_test_subset.parquet')\n",
    "new_data_dir = os.path.join(data_root_dir, f'{clustering_strategy}_clusters_with_prob1.parquet')\n",
    "\n",
    "data = pd.read_parquet(test_subset_dir) # Cluster, Prob_0 - Prob_19, Feature: 0 - Feature: 511, Volunteer Labels, Type\n",
    "#print(data.head)\n",
    "data2 = pd.read_parquet(new_data_dir) \n",
    "print(data2.head)\n",
    "my_subset1 = data.iloc[0:100, 0]\n",
    "my_subset2 = data2.iloc[0:100, 0]\n",
    "#print(my_subset1.head)"
   ]
  },
  {
   "cell_type": "code",
   "execution_count": 4,
   "id": "d00d28eb",
   "metadata": {},
   "outputs": [
    {
     "name": "stdout",
     "output_type": "stream",
     "text": [
      "                     Cluster1  Cluster2\n",
      "J215433.04-005212.2      16.0       NaN\n",
      "J215421.46-005236.4      19.0       NaN\n",
      "J215310.91-010539.4       1.0       NaN\n",
      "J215058.68-004848.9      18.0       NaN\n",
      "J215004.98-011454.2      16.0       NaN\n",
      "...                       ...       ...\n",
      "J121412.48-002702.3       NaN       4.0\n",
      "J014712.44-094028.4       NaN       0.0\n",
      "J123038.38+175559.4       NaN       8.0\n",
      "J161103.42+310047.0       NaN       4.0\n",
      "J080455.14+240617.6       NaN      14.0\n",
      "\n",
      "[200 rows x 2 columns]\n"
     ]
    }
   ],
   "source": [
    "visual = pd.concat([my_subset1, my_subset2], axis=1)\n",
    "visual.columns = ['Cluster1', 'Cluster2']\n",
    "print(visual)"
   ]
  },
  {
   "cell_type": "code",
   "execution_count": 23,
   "id": "025b3dc1",
   "metadata": {},
   "outputs": [
    {
     "data": {
      "text/plain": [
       "0.0033422395571051458"
      ]
     },
     "execution_count": 23,
     "metadata": {},
     "output_type": "execute_result"
    }
   ],
   "source": [
    "adjusted_rand_score(my_subset1['Cluster'], my_subset2['Cluster'])"
   ]
  }
 ],
 "metadata": {
  "kernelspec": {
   "display_name": "my_proj_env",
   "language": "python",
   "name": "python3"
  },
  "language_info": {
   "codemirror_mode": {
    "name": "ipython",
    "version": 3
   },
   "file_extension": ".py",
   "mimetype": "text/x-python",
   "name": "python",
   "nbconvert_exporter": "python",
   "pygments_lexer": "ipython3",
   "version": "3.10.12"
  }
 },
 "nbformat": 4,
 "nbformat_minor": 5
}
