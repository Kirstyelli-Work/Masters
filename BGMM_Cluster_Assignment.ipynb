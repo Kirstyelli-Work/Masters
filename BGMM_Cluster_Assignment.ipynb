{
 "cells": [
  {
   "cell_type": "markdown",
   "id": "ac8302f7",
   "metadata": {},
   "source": [
    "# BGMM Cluster Assignment\n",
    "___"
   ]
  },
  {
   "cell_type": "markdown",
   "id": "e2ce967d",
   "metadata": {},
   "source": [
    "## Setup"
   ]
  },
  {
   "cell_type": "markdown",
   "id": "f8c95589",
   "metadata": {},
   "source": [
    "### Importing Packages"
   ]
  },
  {
   "cell_type": "code",
   "execution_count": 1,
   "id": "868a8186",
   "metadata": {},
   "outputs": [],
   "source": [
    "import os\n",
    "import shutil\n",
    "import pandas as pd\n",
    "from sklearn.mixture import BayesianGaussianMixture\n",
    "from astronomaly.dimensionality_reduction import pca"
   ]
  },
  {
   "cell_type": "markdown",
   "id": "036e7f3d",
   "metadata": {},
   "source": [
    "### Directories"
   ]
  },
  {
   "cell_type": "code",
   "execution_count": 2,
   "id": "d4d6340a",
   "metadata": {},
   "outputs": [],
   "source": [
    "# Data Root Directory\n",
    "data_root_dir = os.path.join(os.getcwd(), 'Data')\n",
    "\n",
    "# Label Directory\n",
    "label_dir = os.path.join(data_root_dir, 'DeCaLs/gz_decals_volunteers_1_and_2.parquet')\n",
    "\n",
    "# Image Directory\n",
    "img_dir = os.path.join(data_root_dir, 'DeCaLs')\n",
    "\n",
    "# Feature Directory\n",
    "#feature_dir = os.path.join(data_root_dir, 'GalaxyZoo_Main_Features.csv')\n",
    "feature_dir = os.path.join(data_root_dir, 'features.parquet')\n",
    "pca_feature_dir = os.path.join(data_root_dir, 'pca_features.parquet')"
   ]
  },
  {
   "cell_type": "markdown",
   "id": "a572b680",
   "metadata": {},
   "source": [
    "## Features"
   ]
  },
  {
   "cell_type": "code",
   "execution_count": 3,
   "id": "a04c44b1",
   "metadata": {},
   "outputs": [
    {
     "name": "stdout",
     "output_type": "stream",
     "text": [
      "Features:  (230575, 512)\n",
      "                     Feature: 0  Feature: 1  Feature: 2  Feature: 3  \\\n",
      "Image Name                                                            \n",
      "J085308.16+165953.5    0.383313    1.037078    0.107918    0.696278   \n",
      "J140925.33+130923.4    0.335099    0.656469    0.257390    0.540220   \n",
      "\n",
      "                     Feature: 4  Feature: 5  Feature: 6  Feature: 7  \\\n",
      "Image Name                                                            \n",
      "J085308.16+165953.5    0.640173    0.288795    0.087937    0.874013   \n",
      "J140925.33+130923.4    0.442894    0.387346    0.488610    1.072740   \n",
      "\n",
      "                     Feature: 8  Feature: 9  ...  Feature: 502  Feature: 503  \\\n",
      "Image Name                                   ...                               \n",
      "J085308.16+165953.5    0.718489    0.099370  ...      1.916415      0.087020   \n",
      "J140925.33+130923.4    0.414410    0.673366  ...      0.204061      0.257959   \n",
      "\n",
      "                     Feature: 504  Feature: 505  Feature: 506  Feature: 507  \\\n",
      "Image Name                                                                    \n",
      "J085308.16+165953.5      0.365182      0.763441      0.910349      0.616235   \n",
      "J140925.33+130923.4      0.440246      1.137514      1.178888      0.651416   \n",
      "\n",
      "                     Feature: 508  Feature: 509  Feature: 510  Feature: 511  \n",
      "Image Name                                                                   \n",
      "J085308.16+165953.5      0.780081      0.196701      0.511149      0.264548  \n",
      "J140925.33+130923.4      0.406699      0.617806      1.143748      0.458698  \n",
      "\n",
      "[2 rows x 512 columns]\n"
     ]
    }
   ],
   "source": [
    "#features = pd.read_csv(feature_dir, index_col=1)\n",
    "#features.drop('Unnamed: 0', axis=1, inplace=True)\n",
    "#features.to_parquet(os.path.join(data_root_dir, 'features.parquet'))\n",
    "features = pd.read_parquet(feature_dir)\n",
    "print('Features: ', features.shape)\n",
    "print(features.head(n=2))"
   ]
  },
  {
   "cell_type": "markdown",
   "id": "727c726b",
   "metadata": {},
   "source": [
    "## PCA"
   ]
  },
  {
   "cell_type": "code",
   "execution_count": 5,
   "id": "839caf62",
   "metadata": {},
   "outputs": [
    {
     "name": "stdout",
     "output_type": "stream",
     "text": [
      "PCA Features:  (230575, 29)\n"
     ]
    }
   ],
   "source": [
    "#my_pca = pca.PCA_Decomposer(force_rerun=False, n_components=29, threshold=0.95, output_dir=data_root_dir)\n",
    "#pca_features = my_pca.run(features)\n",
    "#pca_features.to_parquet(os.path.join(data_root_dir, 'pca_features.parquet'))\n",
    "pca_features = pd.read_parquet(pca_feature_dir)\n",
    "print('PCA Features: ', pca_features.shape)"
   ]
  },
  {
   "cell_type": "markdown",
   "id": "059f4383",
   "metadata": {},
   "source": [
    "## BGMM Fitting"
   ]
  },
  {
   "cell_type": "code",
   "execution_count": 6,
   "id": "fadcf74c",
   "metadata": {},
   "outputs": [
    {
     "name": "stdout",
     "output_type": "stream",
     "text": [
      "                     Cluster\n",
      "Image Name                  \n",
      "J085308.16+165953.5       18\n",
      "J140925.33+130923.4       19\n"
     ]
    }
   ],
   "source": [
    "my_bgmm = BayesianGaussianMixture(n_components=20, weight_concentration_prior=0.5, n_init=10, max_iter=1000).fit(pca_features)\n",
    "bgm_labels = my_bgmm.predict(pca_features)\n",
    "clusters = pd.DataFrame(index = features.index.copy())\n",
    "clusters['Cluster'] = bgm_labels\n",
    "clusters.to_parquet(os.path.join(data_root_dir, 'BGMM_clusters.parquet'))\n",
    "print(clusters.head(n=2))"
   ]
  },
  {
   "cell_type": "code",
   "execution_count": 7,
   "id": "873d56f5",
   "metadata": {},
   "outputs": [
    {
     "name": "stdout",
     "output_type": "stream",
     "text": [
      "                     Cluster         Prob_0        Prob_1         Prob_2  \\\n",
      "Image Name                                                                 \n",
      "J085308.16+165953.5       18   0.000000e+00  4.258073e-64  4.631917e-237   \n",
      "J140925.33+130923.4       19  5.586107e-139  5.778383e-23   3.678455e-39   \n",
      "\n",
      "                           Prob_3  Prob_4  Prob_5  Prob_6         Prob_7  \\\n",
      "Image Name                                                                 \n",
      "J085308.16+165953.5  0.000000e+00     0.0     0.0     0.0  1.205250e-114   \n",
      "J140925.33+130923.4  1.052009e-29     0.0     0.0     0.0   1.484032e-15   \n",
      "\n",
      "                           Prob_8  ...       Prob_10       Prob_11  \\\n",
      "Image Name                         ...                               \n",
      "J085308.16+165953.5  1.551921e-21  ...  8.949293e-69  8.246431e-44   \n",
      "J140925.33+130923.4  1.126827e-40  ...  9.870288e-62  3.277313e-12   \n",
      "\n",
      "                          Prob_12  Prob_13       Prob_14       Prob_15  \\\n",
      "Image Name                                                               \n",
      "J085308.16+165953.5  2.125692e-51      0.0  1.692492e-20  1.036771e-94   \n",
      "J140925.33+130923.4  6.337417e-43      0.0  2.312775e-01  2.550238e-04   \n",
      "\n",
      "                           Prob_16        Prob_17       Prob_18   Prob_19  \n",
      "Image Name                                                                 \n",
      "J085308.16+165953.5  2.659495e-106   0.000000e+00  1.000000e+00  0.000000  \n",
      "J140925.33+130923.4   2.140609e-35  8.600652e-104  8.667718e-45  0.768467  \n",
      "\n",
      "[2 rows x 21 columns]\n"
     ]
    }
   ],
   "source": [
    "bgm_prob = my_bgmm.predict_proba(pca_features)\n",
    "prob_cols = []\n",
    "for i in range(bgm_prob.shape[1]):\n",
    "    prob_cols.append(f'Prob_{i}')\n",
    "clusters[prob_cols] = bgm_prob\n",
    "clusters.to_parquet(os.path.join(data_root_dir, 'BGMM_clusters_with_prob.parquet'))\n",
    "print(clusters.head(n=2))"
   ]
  }
 ],
 "metadata": {
  "kernelspec": {
   "display_name": "my_proj_env",
   "language": "python",
   "name": "python3"
  },
  "language_info": {
   "codemirror_mode": {
    "name": "ipython",
    "version": 3
   },
   "file_extension": ".py",
   "mimetype": "text/x-python",
   "name": "python",
   "nbconvert_exporter": "python",
   "pygments_lexer": "ipython3",
   "version": "3.10.12"
  }
 },
 "nbformat": 4,
 "nbformat_minor": 5
}
