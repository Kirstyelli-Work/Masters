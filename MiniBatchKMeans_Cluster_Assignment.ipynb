{
 "cells": [
  {
   "cell_type": "markdown",
   "id": "f6c32b1e",
   "metadata": {},
   "source": [
    "# MiniBatchKMeans Cluster Assignment\n",
    "___"
   ]
  },
  {
   "cell_type": "markdown",
   "id": "7768d3ef",
   "metadata": {},
   "source": [
    "## Setup"
   ]
  },
  {
   "cell_type": "markdown",
   "id": "dee0aad0",
   "metadata": {},
   "source": [
    "### Importing Packages"
   ]
  },
  {
   "cell_type": "code",
   "execution_count": 1,
   "id": "3b325836",
   "metadata": {},
   "outputs": [],
   "source": [
    "import os\n",
    "import shutil\n",
    "import pandas as pd\n",
    "from sklearn.cluster import MiniBatchKMeans\n",
    "from astronomaly.dimensionality_reduction import pca"
   ]
  },
  {
   "cell_type": "markdown",
   "id": "27a3acdc",
   "metadata": {},
   "source": [
    "### Directories"
   ]
  },
  {
   "cell_type": "code",
   "execution_count": 2,
   "id": "65dcd6d5",
   "metadata": {},
   "outputs": [],
   "source": [
    "# Data Root Directory\n",
    "data_root_dir = os.path.join(os.getcwd(), 'Data')\n",
    "\n",
    "# Label Directory\n",
    "label_dir = os.path.join(data_root_dir, 'DeCaLs/gz_decals_volunteers_1_and_2.parquet')\n",
    "\n",
    "# Image Directory\n",
    "img_dir = os.path.join(data_root_dir, 'DeCaLs')\n",
    "\n",
    "# Feature Directory\n",
    "#feature_dir = os.path.join(data_root_dir, 'GalaxyZoo_Main_Features.csv')\n",
    "feature_dir = os.path.join(data_root_dir, 'features.parquet')\n",
    "pca_feature_dir = os.path.join(data_root_dir, 'pca_features.parquet')"
   ]
  },
  {
   "cell_type": "markdown",
   "id": "ae7a52a5",
   "metadata": {},
   "source": [
    "## Features"
   ]
  },
  {
   "cell_type": "code",
   "execution_count": 3,
   "id": "e18018e6",
   "metadata": {},
   "outputs": [
    {
     "name": "stdout",
     "output_type": "stream",
     "text": [
      "Features:  (230575, 512)\n",
      "                     Feature: 0  Feature: 1  Feature: 2  Feature: 3  \\\n",
      "Image Name                                                            \n",
      "J085308.16+165953.5    0.383313    1.037078    0.107918    0.696278   \n",
      "J140925.33+130923.4    0.335099    0.656469    0.257390    0.540220   \n",
      "\n",
      "                     Feature: 4  Feature: 5  Feature: 6  Feature: 7  \\\n",
      "Image Name                                                            \n",
      "J085308.16+165953.5    0.640173    0.288795    0.087937    0.874013   \n",
      "J140925.33+130923.4    0.442894    0.387346    0.488610    1.072740   \n",
      "\n",
      "                     Feature: 8  Feature: 9  ...  Feature: 502  Feature: 503  \\\n",
      "Image Name                                   ...                               \n",
      "J085308.16+165953.5    0.718489    0.099370  ...      1.916415      0.087020   \n",
      "J140925.33+130923.4    0.414410    0.673366  ...      0.204061      0.257959   \n",
      "\n",
      "                     Feature: 504  Feature: 505  Feature: 506  Feature: 507  \\\n",
      "Image Name                                                                    \n",
      "J085308.16+165953.5      0.365182      0.763441      0.910349      0.616235   \n",
      "J140925.33+130923.4      0.440246      1.137514      1.178888      0.651416   \n",
      "\n",
      "                     Feature: 508  Feature: 509  Feature: 510  Feature: 511  \n",
      "Image Name                                                                   \n",
      "J085308.16+165953.5      0.780081      0.196701      0.511149      0.264548  \n",
      "J140925.33+130923.4      0.406699      0.617806      1.143748      0.458698  \n",
      "\n",
      "[2 rows x 512 columns]\n"
     ]
    }
   ],
   "source": [
    "#features = pd.read_csv(feature_dir, index_col=1)\n",
    "#features.drop('Unnamed: 0', axis=1, inplace=True)\n",
    "#features.to_parquet(os.path.join(data_root_dir, 'features.parquet'))\n",
    "features = pd.read_parquet(feature_dir)\n",
    "print('Features: ', features.shape)\n",
    "print(features.head(n=2))"
   ]
  },
  {
   "cell_type": "markdown",
   "id": "f64ffff9",
   "metadata": {},
   "source": [
    "## PCA"
   ]
  },
  {
   "cell_type": "code",
   "execution_count": 4,
   "id": "afd2f4ea",
   "metadata": {},
   "outputs": [
    {
     "name": "stdout",
     "output_type": "stream",
     "text": [
      "PCA:  (230575, 29)\n"
     ]
    }
   ],
   "source": [
    "#my_pca = pca.PCA_Decomposer(force_rerun=False, n_components=29, threshold=0.95, output_dir=data_root_dir)\n",
    "#pca_features = my_pca.run(features)\n",
    "#pca_features.to_parquet(os.path.join(data_root_dir, 'pca_features.parquet'))\n",
    "pca_features = pd.read_parquet(pca_feature_dir)\n",
    "print('PCA: ', pca_features.shape)"
   ]
  },
  {
   "cell_type": "markdown",
   "id": "cdb37619",
   "metadata": {},
   "source": [
    "## MiniBatchKMeans Fitting"
   ]
  },
  {
   "cell_type": "code",
   "execution_count": 5,
   "id": "f7323241",
   "metadata": {},
   "outputs": [
    {
     "name": "stdout",
     "output_type": "stream",
     "text": [
      "                     Cluster\n",
      "Image Name                  \n",
      "J085308.16+165953.5       17\n",
      "J140925.33+130923.4        2\n"
     ]
    }
   ],
   "source": [
    "my_kmeans = MiniBatchKMeans(n_clusters=20, max_iter=10, n_init=\"auto\").fit(pca_features)\n",
    "kmeans_labels = my_kmeans.predict(pca_features)\n",
    "clusters = pd.DataFrame(index = features.index.copy())\n",
    "clusters['Cluster'] = kmeans_labels\n",
    "clusters.to_parquet(os.path.join(data_root_dir, 'MiniBatchKMeans_clusters.parquet'))\n",
    "print(clusters.head(n=2))"
   ]
  }
 ],
 "metadata": {
  "kernelspec": {
   "display_name": "my_proj_env",
   "language": "python",
   "name": "python3"
  },
  "language_info": {
   "codemirror_mode": {
    "name": "ipython",
    "version": 3
   },
   "file_extension": ".py",
   "mimetype": "text/x-python",
   "name": "python",
   "nbconvert_exporter": "python",
   "pygments_lexer": "ipython3",
   "version": "3.10.12"
  }
 },
 "nbformat": 4,
 "nbformat_minor": 5
}
