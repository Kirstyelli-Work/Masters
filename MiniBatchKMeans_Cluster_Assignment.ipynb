{
 "cells": [
  {
   "cell_type": "markdown",
   "id": "f6c32b1e",
   "metadata": {},
   "source": [
    "# MiniBatchKMeans Cluster Assignment\n",
    "___"
   ]
  },
  {
   "cell_type": "markdown",
   "id": "7768d3ef",
   "metadata": {},
   "source": [
    "## Setup"
   ]
  },
  {
   "cell_type": "markdown",
   "id": "dee0aad0",
   "metadata": {},
   "source": [
    "### Importing Packages"
   ]
  },
  {
   "cell_type": "code",
   "execution_count": 1,
   "id": "3b325836",
   "metadata": {},
   "outputs": [],
   "source": [
    "import os\n",
    "import shutil\n",
    "import pandas as pd\n",
    "from sklearn.cluster import MiniBatchKMeans\n",
    "from astronomaly.dimensionality_reduction import pca"
   ]
  },
  {
   "cell_type": "markdown",
   "id": "27a3acdc",
   "metadata": {},
   "source": [
    "### Directories"
   ]
  },
  {
   "cell_type": "code",
   "execution_count": 2,
   "id": "65dcd6d5",
   "metadata": {},
   "outputs": [],
   "source": [
    "# Data Root Directory\n",
    "data_root_dir = os.path.join(os.getcwd(), 'Data')\n",
    "\n",
    "# Label Directory\n",
    "label_dir = os.path.join(data_root_dir, 'DeCaLs/gz_decals_volunteers_1_and_2.parquet')\n",
    "\n",
    "# Image Directory\n",
    "img_dir = os.path.join(data_root_dir, 'DeCaLs')\n",
    "\n",
    "# Feature Directory\n",
    "#feature_dir = os.path.join(data_root_dir, 'GalaxyZoo_Main_Features.csv')\n",
    "feature_dir = os.path.join(data_root_dir, 'features.parquet')\n",
    "pca_feature_dir = os.path.join(data_root_dir, 'pca_features.parquet')"
   ]
  },
  {
   "cell_type": "markdown",
   "id": "ae7a52a5",
   "metadata": {},
   "source": [
    "## Features"
   ]
  },
  {
   "cell_type": "code",
   "execution_count": 4,
   "id": "e18018e6",
   "metadata": {},
   "outputs": [
    {
     "name": "stdout",
     "output_type": "stream",
     "text": [
      "Features:  (230575, 512)\n",
      "                     Feature: 0  Feature: 1  Feature: 2  Feature: 3  \\\n",
      "Image Name                                                            \n",
      "J085308.16+165953.5    0.383313    1.037078    0.107918    0.696278   \n",
      "J140925.33+130923.4    0.335099    0.656469    0.257390    0.540220   \n",
      "\n",
      "                     Feature: 4  Feature: 5  Feature: 6  Feature: 7  \\\n",
      "Image Name                                                            \n",
      "J085308.16+165953.5    0.640173    0.288795    0.087937    0.874013   \n",
      "J140925.33+130923.4    0.442894    0.387346    0.488610    1.072740   \n",
      "\n",
      "                     Feature: 8  Feature: 9  ...  Feature: 502  Feature: 503  \\\n",
      "Image Name                                   ...                               \n",
      "J085308.16+165953.5    0.718489    0.099370  ...      1.916415      0.087020   \n",
      "J140925.33+130923.4    0.414410    0.673366  ...      0.204061      0.257959   \n",
      "\n",
      "                     Feature: 504  Feature: 505  Feature: 506  Feature: 507  \\\n",
      "Image Name                                                                    \n",
      "J085308.16+165953.5      0.365182      0.763441      0.910349      0.616235   \n",
      "J140925.33+130923.4      0.440246      1.137514      1.178888      0.651416   \n",
      "\n",
      "                     Feature: 508  Feature: 509  Feature: 510  Feature: 511  \n",
      "Image Name                                                                   \n",
      "J085308.16+165953.5      0.780081      0.196701      0.511149      0.264548  \n",
      "J140925.33+130923.4      0.406699      0.617806      1.143748      0.458698  \n",
      "\n",
      "[2 rows x 512 columns]\n"
     ]
    }
   ],
   "source": [
    "#features = pd.read_csv(feature_dir, index_col=1)\n",
    "#features.drop('Unnamed: 0', axis=1, inplace=True)\n",
    "#features.to_parquet(os.path.join(data_root_dir, 'features.parquet'))\n",
    "features = pd.read_parquet(feature_dir)\n",
    "print('Features: ', features.shape)\n",
    "print(features.head(n=2))"
   ]
  },
  {
   "cell_type": "markdown",
   "id": "f64ffff9",
   "metadata": {},
   "source": [
    "## PCA"
   ]
  },
  {
   "cell_type": "code",
   "execution_count": 5,
   "id": "afd2f4ea",
   "metadata": {},
   "outputs": [
    {
     "name": "stdout",
     "output_type": "stream",
     "text": [
      "PCA:  (230575, 29)\n"
     ]
    }
   ],
   "source": [
    "#my_pca = pca.PCA_Decomposer(force_rerun=False, n_components=29, threshold=0.95, output_dir=data_root_dir)\n",
    "#pca_features = my_pca.run(features)\n",
    "#pca_features.to_parquet(os.path.join(data_root_dir, 'pca_features.parquet'))\n",
    "pca_features = pd.read_parquet(pca_feature_dir)\n",
    "print('PCA: ', pca_features.shape)"
   ]
  },
  {
   "cell_type": "markdown",
   "id": "cdb37619",
   "metadata": {},
   "source": [
    "## MiniBatchKMeans Fitting"
   ]
  },
  {
   "cell_type": "code",
   "execution_count": 6,
   "id": "f7323241",
   "metadata": {},
   "outputs": [
    {
     "name": "stdout",
     "output_type": "stream",
     "text": [
      "                     Cluster\n",
      "Image Name                  \n",
      "J085308.16+165953.5        5\n",
      "J140925.33+130923.4        8\n"
     ]
    }
   ],
   "source": [
    "my_kmeans = MiniBatchKMeans(n_clusters=20, max_iter=10, n_init=\"auto\").fit(pca_features)\n",
    "kmeans_labels = my_kmeans.predict(pca_features)\n",
    "clusters = pd.DataFrame(index = features.index.copy())\n",
    "clusters['Cluster'] = kmeans_labels\n",
    "clusters.to_parquet(os.path.join(data_root_dir, 'MiniBatchKMeans_clusters.parquet'))\n",
    "print(clusters.head(n=2))"
   ]
  },
  {
   "cell_type": "code",
   "execution_count": 7,
   "id": "881a5f0c",
   "metadata": {},
   "outputs": [
    {
     "name": "stdout",
     "output_type": "stream",
     "text": [
      "                     Cluster    Prob_0    Prob_1      Prob_2     Prob_3  \\\n",
      "Image Name                                                                \n",
      "J085308.16+165953.5        5  8.124366  8.016758  498.391971  39.929194   \n",
      "J140925.33+130923.4        8  6.856061  7.149682  498.262090  39.579373   \n",
      "\n",
      "                       Prob_4    Prob_5     Prob_6    Prob_7    Prob_8  ...  \\\n",
      "Image Name                                                              ...   \n",
      "J085308.16+165953.5  8.256111  5.257393  89.677064  8.553757  8.637881  ...   \n",
      "J140925.33+130923.4  6.495645  7.128894  89.313525  7.293323  4.641401  ...   \n",
      "\n",
      "                       Prob_10    Prob_11    Prob_12   Prob_13   Prob_14  \\\n",
      "Image Name                                                                 \n",
      "J085308.16+165953.5  41.873256  25.363678  11.679500  7.144777  8.515982   \n",
      "J140925.33+130923.4  41.916680  25.233109  10.730865  7.329722  7.022551   \n",
      "\n",
      "                      Prob_15   Prob_16   Prob_17   Prob_18   Prob_19  \n",
      "Image Name                                                             \n",
      "J085308.16+165953.5  8.358357  8.416303  7.752142  6.155278  6.289085  \n",
      "J140925.33+130923.4  6.957860  5.687250  6.599119  6.271136  6.422530  \n",
      "\n",
      "[2 rows x 21 columns]\n"
     ]
    }
   ],
   "source": [
    "kmeans_prob = my_kmeans.transform(pca_features)\n",
    "prob_cols = []\n",
    "for i in range(kmeans_prob.shape[1]):\n",
    "    prob_cols.append(f'Prob_{i}')\n",
    "clusters[prob_cols] = kmeans_prob\n",
    "clusters.to_parquet(os.path.join(data_root_dir, 'MiniBatchKMeans_clusters_with_prob.parquet'))\n",
    "print(clusters.head(n=2))"
   ]
  }
 ],
 "metadata": {
  "kernelspec": {
   "display_name": "my_proj_env",
   "language": "python",
   "name": "python3"
  },
  "language_info": {
   "codemirror_mode": {
    "name": "ipython",
    "version": 3
   },
   "file_extension": ".py",
   "mimetype": "text/x-python",
   "name": "python",
   "nbconvert_exporter": "python",
   "pygments_lexer": "ipython3",
   "version": "3.10.12"
  }
 },
 "nbformat": 4,
 "nbformat_minor": 5
}
